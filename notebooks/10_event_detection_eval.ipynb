{
 "cells": [
  {
   "cell_type": "markdown",
   "id": "c7f25d5f",
   "metadata": {},
   "source": [
    "# Event Detection Parameter Evaluation\n",
    "\n",
    "This notebook analyzes the sensitivity of thunder event detection to parameter changes:\n",
    "\n",
    "- **Energy threshold** (0.001 - 0.1)\n",
    "- **Spectral threshold** (0.01 - 0.5)\n",
    "- **Merge gap** (0.1s - 2.0s)\n",
    "- **Minimum duration** (0.05s - 0.5s)\n",
    "\n",
    "## Contents\n",
    "\n",
    "1. Load sample audio and ground truth (or synthetic annotations)\n",
    "2. Sweep energy threshold and measure precision/recall/F1\n",
    "3. Sweep spectral threshold and measure metrics\n",
    "4. Analyze merge gap impact on event count\n",
    "5. Visualize detection results for different parameter sets\n",
    "\n",
    "**Goal**: Find optimal detection parameters for your audio dataset."
   ]
  }
 ],
 "metadata": {
  "language_info": {
   "name": "python"
  }
 },
 "nbformat": 4,
 "nbformat_minor": 5
}

{
 "cells": [
  {
   "cell_type": "markdown",
   "id": "506a5098",
   "metadata": {},
   "source": [
    "# Feature Scouting and Correlation Analysis\n",
    "\n",
    "This notebook explores the acoustic features extracted from thunder events:\n",
    "\n",
    "## Contents\n",
    "\n",
    "1. **Load Features**: Load features.csv from multiple audio files\n",
    "2. **Distribution Analysis**: Histograms, box plots, violin plots for each feature\n",
    "3. **Correlation Heatmap**: Pearson correlation between all features\n",
    "4. **Dimensionality Reduction**: PCA to visualize feature space in 2D/3D\n",
    "5. **Time-Series Patterns**: Plot features vs. event time\n",
    "6. **Feature Importance**: For future classification (IC vs. CG)\n",
    "\n",
    "**Goal**: Understand which features are most informative and how they relate to each other."
   ]
  }
 ],
 "metadata": {
  "language_info": {
   "name": "python"
  }
 },
 "nbformat": 4,
 "nbformat_minor": 5
}
